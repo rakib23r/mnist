{
  "nbformat": 4,
  "nbformat_minor": 0,
  "metadata": {
    "colab": {
      "name": "mnist2.ipynb",
      "version": "0.3.2",
      "provenance": [],
      "collapsed_sections": []
    },
    "kernelspec": {
      "name": "python3",
      "display_name": "Python 3"
    },
    "accelerator": "GPU"
  },
  "cells": [
    {
      "metadata": {
        "id": "-fv3UHao-Rsi",
        "colab_type": "code",
        "outputId": "9d3fe172-153f-4a6e-d3f9-80558c0f5a89",
        "colab": {
          "base_uri": "https://localhost:8080/",
          "height": 425
        }
      },
      "cell_type": "code",
      "source": [
        "import tensorflow as tf\n",
        "import matplotlib.pyplot as plt\n",
        "from tensorflow.keras import Sequential\n",
        "from tensorflow.keras.layers import Flatten,Dense\n",
        "import numpy as np\n",
        "\n",
        "mnist = tf.keras.datasets.mnist\n",
        "(xtrain,ytrain),(xtest,ytest) = mnist.load_data()\n",
        "\n",
        "# plt.imshow(xtrain[0])\n",
        "# plt.show()\n",
        "\n",
        "xtrain = tf.keras.utils.normalize(xtrain,axis=1)\n",
        "xtest = tf.keras.utils.normalize(xtest,axis=1)\n",
        "\n",
        "# plt.imshow(xtrain[0])\n",
        "# plt.show()\n",
        "\n",
        "model = Sequential()\n",
        "\n",
        "model.add(Flatten())\n",
        "model.add(Dense(128,activation='relu'))\n",
        "model.add(Dense(128,activation='relu'))\n",
        "model.add(Dense(10,activation='softmax'))\n",
        "\n",
        "model.compile(loss='sparse_categorical_crossentropy',\n",
        "             optimizer='adam' ,\n",
        "             metrics=['accuracy'])\n",
        "\n",
        "model.fit(xtrain,ytrain,epochs=10,batch_size=32)\n",
        "\n",
        "vloss, vacc = model.evaluate(xtest,ytest)\n",
        "print(vloss, vacc)\n",
        "\n"
      ],
      "execution_count": 36,
      "outputs": [
        {
          "output_type": "stream",
          "text": [
            "Epoch 1/10\n",
            "60000/60000 [==============================] - 8s 140us/sample - loss: 0.2593 - acc: 0.9237\n",
            "Epoch 2/10\n",
            "60000/60000 [==============================] - 8s 137us/sample - loss: 0.1044 - acc: 0.9677\n",
            "Epoch 3/10\n",
            "60000/60000 [==============================] - 8s 137us/sample - loss: 0.0726 - acc: 0.9775\n",
            "Epoch 4/10\n",
            "60000/60000 [==============================] - 8s 137us/sample - loss: 0.0525 - acc: 0.9836\n",
            "Epoch 5/10\n",
            "60000/60000 [==============================] - 8s 137us/sample - loss: 0.0414 - acc: 0.9871\n",
            "Epoch 6/10\n",
            "60000/60000 [==============================] - 8s 135us/sample - loss: 0.0308 - acc: 0.9898\n",
            "Epoch 7/10\n",
            "60000/60000 [==============================] - 8s 135us/sample - loss: 0.0257 - acc: 0.9912\n",
            "Epoch 8/10\n",
            "60000/60000 [==============================] - 8s 137us/sample - loss: 0.0214 - acc: 0.9930\n",
            "Epoch 9/10\n",
            "60000/60000 [==============================] - 8s 136us/sample - loss: 0.0171 - acc: 0.9944\n",
            "Epoch 10/10\n",
            "60000/60000 [==============================] - 8s 136us/sample - loss: 0.0157 - acc: 0.9947\n",
            "10000/10000 [==============================] - 1s 78us/sample - loss: 0.1281 - acc: 0.9725\n",
            "0.12806360150133259 0.9725\n",
            "prdicted: 7 2 1 0 4 1 4 9 5 9 0 6 9 0 1 5 9 7 3 4 9 6 6 5 4 0 7 4 0 1  \n",
            "original:  [7 2 1 0 4 1 4 9 5 9 0 6 9 0 1 5 9 7 3 4 9 6 6 5 4 0 7 4 0 1]\n"
          ],
          "name": "stdout"
        }
      ]
    },
    {
      "metadata": {
        "id": "e1FsHlQPHL5y",
        "colab_type": "code",
        "colab": {
          "base_uri": "https://localhost:8080/",
          "height": 51
        },
        "outputId": "1c5cc17c-6a23-4468-f985-e20ec0028e54"
      },
      "cell_type": "code",
      "source": [
        "pred = model.predict([xtest])\n",
        "\n",
        "\n",
        "print(\"prdicted:  \",end='')\n",
        "for i in range(30):\n",
        "    print(np.argmax(pred[i]) , end=' ')\n",
        "print(\" \")\n",
        "print(\"original:\", ytest[:30])"
      ],
      "execution_count": 37,
      "outputs": [
        {
          "output_type": "stream",
          "text": [
            "prdicted:  7 2 1 0 4 1 4 9 5 9 0 6 9 0 1 5 9 7 3 4 9 6 6 5 4 0 7 4 0 1  \n",
            "original: [7 2 1 0 4 1 4 9 5 9 0 6 9 0 1 5 9 7 3 4 9 6 6 5 4 0 7 4 0 1]\n"
          ],
          "name": "stdout"
        }
      ]
    },
    {
      "metadata": {
        "id": "l3Xgy_LpLQV-",
        "colab_type": "code",
        "colab": {}
      },
      "cell_type": "code",
      "source": [
        ""
      ],
      "execution_count": 0,
      "outputs": []
    }
  ]
}