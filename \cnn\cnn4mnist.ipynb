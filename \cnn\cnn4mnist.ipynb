{
  "nbformat": 4,
  "nbformat_minor": 0,
  "metadata": {
    "colab": {
      "name": "cnn4mnist.ipynb",
      "version": "0.3.2",
      "provenance": [],
      "collapsed_sections": []
    },
    "kernelspec": {
      "name": "python3",
      "display_name": "Python 3"
    },
    "accelerator": "GPU"
  },
  "cells": [
    {
      "metadata": {
        "id": "YbHbuXjtrknK",
        "colab_type": "code",
        "colab": {
          "base_uri": "https://localhost:8080/",
          "height": 34
        },
        "outputId": "9b4b586d-c453-4d92-e5f4-46119aea19a2"
      },
      "cell_type": "code",
      "source": [
        "import numpy as np\n",
        "xData = np.load('x_train.npy')\n",
        "yData = np.load('y_train.npy')\n",
        "xData.shape,yData.shape"
      ],
      "execution_count": 2,
      "outputs": [
        {
          "output_type": "execute_result",
          "data": {
            "text/plain": [
              "((808, 70, 70, 1), (808,))"
            ]
          },
          "metadata": {
            "tags": []
          },
          "execution_count": 2
        }
      ]
    },
    {
      "metadata": {
        "id": "spwpYMZaxHj-",
        "colab_type": "code",
        "colab": {}
      },
      "cell_type": "code",
      "source": [
        "import tensorflow as tf\n",
        "from sklearn.model_selection import train_test_split"
      ],
      "execution_count": 0,
      "outputs": []
    },
    {
      "metadata": {
        "id": "NM9ZJNLEygmk",
        "colab_type": "code",
        "colab": {}
      },
      "cell_type": "code",
      "source": [
        "x_train, x_test, y_train, y_test = train_test_split(xData,yData,test_size=.1)"
      ],
      "execution_count": 0,
      "outputs": []
    },
    {
      "metadata": {
        "id": "bZ66YYW90pPb",
        "colab_type": "code",
        "colab": {
          "base_uri": "https://localhost:8080/",
          "height": 34
        },
        "outputId": "73af797f-cdc0-41ec-9aeb-17c3be36a000"
      },
      "cell_type": "code",
      "source": [
        "x_train.shape[1:]\n"
      ],
      "execution_count": 15,
      "outputs": [
        {
          "output_type": "execute_result",
          "data": {
            "text/plain": [
              "(70, 70, 1)"
            ]
          },
          "metadata": {
            "tags": []
          },
          "execution_count": 15
        }
      ]
    },
    {
      "metadata": {
        "id": "xcBYMvzJ-sWV",
        "colab_type": "code",
        "colab": {
          "base_uri": "https://localhost:8080/",
          "height": 51
        },
        "outputId": "d21a207b-09c1-4cdb-c11a-25615cea4ccf"
      },
      "cell_type": "code",
      "source": [
        "mnist = tf.keras.datasets.mnist\n",
        "(xm,ym),(xmt,ymt) = mnist.load_data()"
      ],
      "execution_count": 64,
      "outputs": [
        {
          "output_type": "stream",
          "text": [
            "Downloading data from https://storage.googleapis.com/tensorflow/tf-keras-datasets/mnist.npz\n",
            "11493376/11490434 [==============================] - 0s 0us/step\n"
          ],
          "name": "stdout"
        }
      ]
    },
    {
      "metadata": {
        "id": "DOhOsAZA-_Vy",
        "colab_type": "code",
        "colab": {
          "base_uri": "https://localhost:8080/",
          "height": 34
        },
        "outputId": "32d1a902-b04d-4ef2-b2d9-043e111017f6"
      },
      "cell_type": "code",
      "source": [
        "xm=np.array(xm).reshape(-1,28,28,1)\n",
        "xmt=np.array(xmt).reshape(-1,28,28,1)\n",
        "xm.shape,xmt.shape"
      ],
      "execution_count": 69,
      "outputs": [
        {
          "output_type": "execute_result",
          "data": {
            "text/plain": [
              "((60000, 28, 28, 1), (10000, 28, 28, 1))"
            ]
          },
          "metadata": {
            "tags": []
          },
          "execution_count": 69
        }
      ]
    },
    {
      "metadata": {
        "id": "FrX25JMpy4Fk",
        "colab_type": "code",
        "colab": {}
      },
      "cell_type": "code",
      "source": [
        "from tensorflow.keras.models import Sequential\n",
        "from tensorflow.keras.layers import Dense,Flatten,Activation,Conv2D,MaxPooling2D,BatchNormalization"
      ],
      "execution_count": 0,
      "outputs": []
    },
    {
      "metadata": {
        "id": "czNY9-0ey7bu",
        "colab_type": "code",
        "colab": {
          "base_uri": "https://localhost:8080/",
          "height": 136
        },
        "outputId": "842fb7c7-b65d-448a-9639-e7b7927ad877"
      },
      "cell_type": "code",
      "source": [
        "model = Sequential()\n",
        "model.add(Conv2D(input_shape=(xm.shape[1:]),kernel_initializer='he_normal',filters=50,kernel_size=(3,3),activation='relu',strides=(1,1),padding='same'))\n",
        "model.add(BatchNormalization())\n",
        "model.add(Conv2D(filters=50,kernel_size=(3,3),kernel_initializer='he_normal',activation='relu',strides=(1,1),padding='same'))\n",
        "model.add(BatchNormalization())\n",
        "model.add(MaxPooling2D(pool_size=(2,2)))\n",
        "\n",
        "# model.add(Conv2D(filters=50,kernel_size=(3,3),activation='relu',strides=(1,1),padding='same'))\n",
        "# model.add(BatchNormalization())\n",
        "model.add(Conv2D(filters=50,kernel_size=(3,3),kernel_initializer='he_normal',activation='relu',strides=(1,1),padding='same'))\n",
        "model.add(BatchNormalization())\n",
        "model.add(MaxPooling2D(pool_size=(2,2)))\n",
        "\n",
        "model.add(Conv2D(filters=50,kernel_size=(3,3),kernel_initializer='he_normal',activation='relu',strides=(1,1),padding='same'))\n",
        "model.add(BatchNormalization())\n",
        "# model.add(Conv2D(filters=50,kernel_size=(3,3),activation='relu',strides=(1,1),padding='same'))\n",
        "# model.add(BatchNormalization())\n",
        "model.add(MaxPooling2D(pool_size=(2,2)))\n",
        "\n",
        "\n",
        "model.add(Flatten())\n",
        "model.add(Dense(128,activation='relu'))\n",
        "# model.add(Dense(128,activation='relu'))\n",
        "model.add(Dense(10,activation='softmax'))\n",
        "\n",
        "model.compile(loss='sparse_categorical_crossentropy',\n",
        "             optimizer='adam',\n",
        "             metrics=['acc'])\n",
        "\n",
        "model.fit(xm,ym,epochs=3,batch_size=32)"
      ],
      "execution_count": 83,
      "outputs": [
        {
          "output_type": "stream",
          "text": [
            "Epoch 1/3\n",
            "60000/60000 [==============================] - 44s 729us/sample - loss: 0.1040 - acc: 0.9672\n",
            "Epoch 2/3\n",
            "60000/60000 [==============================] - 43s 713us/sample - loss: 0.0399 - acc: 0.9878\n",
            "Epoch 3/3\n",
            "60000/60000 [==============================] - 42s 699us/sample - loss: 0.0275 - acc: 0.9916\n"
          ],
          "name": "stdout"
        },
        {
          "output_type": "execute_result",
          "data": {
            "text/plain": [
              "<tensorflow.python.keras.callbacks.History at 0x7f257c2383c8>"
            ]
          },
          "metadata": {
            "tags": []
          },
          "execution_count": 83
        }
      ]
    },
    {
      "metadata": {
        "id": "N9MjeKeS0Y4r",
        "colab_type": "code",
        "colab": {
          "base_uri": "https://localhost:8080/",
          "height": 51
        },
        "outputId": "88e12464-a493-4a18-f1c8-5dc1da02cf4d"
      },
      "cell_type": "code",
      "source": [
        "res=model.evaluate(xmt,ymt)\n",
        "res"
      ],
      "execution_count": 84,
      "outputs": [
        {
          "output_type": "stream",
          "text": [
            "10000/10000 [==============================] - 3s 251us/sample - loss: 0.0257 - acc: 0.9922\n"
          ],
          "name": "stdout"
        },
        {
          "output_type": "execute_result",
          "data": {
            "text/plain": [
              "[0.02574578297058033, 0.9922]"
            ]
          },
          "metadata": {
            "tags": []
          },
          "execution_count": 84
        }
      ]
    },
    {
      "metadata": {
        "id": "_EcqLp2v7NsM",
        "colab_type": "code",
        "colab": {}
      },
      "cell_type": "code",
      "source": [
        "pred = model.predict([xmt])"
      ],
      "execution_count": 0,
      "outputs": []
    },
    {
      "metadata": {
        "id": "u36ZE2sl7Zv9",
        "colab_type": "code",
        "colab": {
          "base_uri": "https://localhost:8080/",
          "height": 51
        },
        "outputId": "d2bb2c7b-9f3c-453a-beff-6649a14f1f5e"
      },
      "cell_type": "code",
      "source": [
        "print(' ',end='')\n",
        "for i in range(30):\n",
        "    print(np.argmax(pred[i]),end=\" \")\n",
        "print(' ')\n",
        "print(ymt[:30])"
      ],
      "execution_count": 86,
      "outputs": [
        {
          "output_type": "stream",
          "text": [
            " 7 2 1 0 4 1 4 9 5 9 0 6 9 0 1 5 9 7 5 4 9 6 6 5 4 0 7 4 0 1  \n",
            "[7 2 1 0 4 1 4 9 5 9 0 6 9 0 1 5 9 7 3 4 9 6 6 5 4 0 7 4 0 1]\n"
          ],
          "name": "stdout"
        }
      ]
    },
    {
      "metadata": {
        "id": "AxZrpATO7kpu",
        "colab_type": "code",
        "colab": {}
      },
      "cell_type": "code",
      "source": [
        ""
      ],
      "execution_count": 0,
      "outputs": []
    }
  ]
}